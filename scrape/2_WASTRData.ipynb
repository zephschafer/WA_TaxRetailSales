{
 "cells": [
  {
   "cell_type": "markdown",
   "metadata": {},
   "source": [
    "# Analyze Scraped Data\n",
    "\n",
    "#### - "
   ]
  },
  {
   "cell_type": "code",
   "execution_count": 2,
   "metadata": {},
   "outputs": [],
   "source": [
    "# ----- IMPORT_REQUIREMENTS ----- \n",
    "\n",
    "import pandas as pd\n",
    "import matplotlib.pyplot as plt"
   ]
  },
  {
   "cell_type": "code",
   "execution_count": 3,
   "metadata": {},
   "outputs": [],
   "source": [
    "# ----- SPECIFY_OUTPUT_LOCATION ----- \n",
    "\n",
    "source = '../data/'"
   ]
  },
  {
   "cell_type": "code",
   "execution_count": 3,
   "metadata": {},
   "outputs": [],
   "source": [
    "# ----- LOAD_DATA ----- \n",
    "\n",
    "county_annual_N1 = pd.read_csv(source + '/SalTaxRev_WA_county_N1_annl' + '.csv')\n",
    "county_annual_N1['date'] = pd.to_datetime(county_annual_N1['date'])\n",
    "county_annual_N1['salesperunit'] = county_annual_N1.sales/county_annual_N1.units\n",
    "county_annual_N1.sales = county_annual_N1.sales/1000000000"
   ]
  },
  {
   "cell_type": "code",
   "execution_count": 4,
   "metadata": {},
   "outputs": [
    {
     "data": {
      "text/plain": [
       "Index(['county_name', 'naics', 'date', 'sales', 'units', 'state',\n",
       "       'salesperunit'],\n",
       "      dtype='object')"
      ]
     },
     "execution_count": 4,
     "metadata": {},
     "output_type": "execute_result"
    }
   ],
   "source": [
    "county_annual_N1.columns"
   ]
  },
  {
   "cell_type": "code",
   "execution_count": 5,
   "metadata": {},
   "outputs": [
    {
     "data": {
      "text/plain": [
       "array(['Adams', 'Asotin', 'Benton', 'Chelan', 'Clallam', 'Clark',\n",
       "       'Columbia', 'Cowlitz', 'Douglas', 'Ferry', 'Franklin', 'Garfield',\n",
       "       'Grant', 'Grays Harbor', 'Island', 'Jefferson', 'King', 'Kitsap',\n",
       "       'Kittitas', 'Klickitat', 'Lewis', 'Lincoln', 'Mason', 'Okanogan',\n",
       "       'Pacific', 'Pend Oreille', 'Pierce', 'San Juan', 'Skagit',\n",
       "       'Skamania', 'Snohomish', 'Spokane', 'Stevens', 'Thurston'],\n",
       "      dtype=object)"
      ]
     },
     "execution_count": 5,
     "metadata": {},
     "output_type": "execute_result"
    }
   ],
   "source": [
    "county_annual_N1.county_name.unique()"
   ]
  },
  {
   "cell_type": "code",
   "execution_count": 8,
   "metadata": {},
   "outputs": [
    {
     "data": {
      "text/html": [
       "<div>\n",
       "<style scoped>\n",
       "    .dataframe tbody tr th:only-of-type {\n",
       "        vertical-align: middle;\n",
       "    }\n",
       "\n",
       "    .dataframe tbody tr th {\n",
       "        vertical-align: top;\n",
       "    }\n",
       "\n",
       "    .dataframe thead th {\n",
       "        text-align: right;\n",
       "    }\n",
       "</style>\n",
       "<table border=\"1\" class=\"dataframe\">\n",
       "  <thead>\n",
       "    <tr style=\"text-align: right;\">\n",
       "      <th></th>\n",
       "      <th>naics</th>\n",
       "      <th>sales</th>\n",
       "      <th>units</th>\n",
       "      <th>salesperunit</th>\n",
       "    </tr>\n",
       "  </thead>\n",
       "  <tbody>\n",
       "    <tr>\n",
       "      <th>count</th>\n",
       "      <td>10573.000000</td>\n",
       "      <td>10573.000000</td>\n",
       "      <td>10573.000000</td>\n",
       "      <td>1.003400e+04</td>\n",
       "    </tr>\n",
       "    <tr>\n",
       "      <th>mean</th>\n",
       "      <td>48.656294</td>\n",
       "      <td>0.134846</td>\n",
       "      <td>1385.932186</td>\n",
       "      <td>6.088829e+04</td>\n",
       "    </tr>\n",
       "    <tr>\n",
       "      <th>std</th>\n",
       "      <td>19.723128</td>\n",
       "      <td>0.701687</td>\n",
       "      <td>4881.064143</td>\n",
       "      <td>9.660833e+04</td>\n",
       "    </tr>\n",
       "    <tr>\n",
       "      <th>min</th>\n",
       "      <td>11.000000</td>\n",
       "      <td>0.000000</td>\n",
       "      <td>0.000000</td>\n",
       "      <td>6.200000e+01</td>\n",
       "    </tr>\n",
       "    <tr>\n",
       "      <th>25%</th>\n",
       "      <td>32.000000</td>\n",
       "      <td>0.000760</td>\n",
       "      <td>35.000000</td>\n",
       "      <td>1.345351e+04</td>\n",
       "    </tr>\n",
       "    <tr>\n",
       "      <th>50%</th>\n",
       "      <td>51.000000</td>\n",
       "      <td>0.005444</td>\n",
       "      <td>208.000000</td>\n",
       "      <td>3.059202e+04</td>\n",
       "    </tr>\n",
       "    <tr>\n",
       "      <th>75%</th>\n",
       "      <td>61.000000</td>\n",
       "      <td>0.037728</td>\n",
       "      <td>898.000000</td>\n",
       "      <td>6.559285e+04</td>\n",
       "    </tr>\n",
       "    <tr>\n",
       "      <th>max</th>\n",
       "      <td>99.000000</td>\n",
       "      <td>14.797457</td>\n",
       "      <td>95984.000000</td>\n",
       "      <td>1.830408e+06</td>\n",
       "    </tr>\n",
       "  </tbody>\n",
       "</table>\n",
       "</div>"
      ],
      "text/plain": [
       "              naics         sales         units  salesperunit\n",
       "count  10573.000000  10573.000000  10573.000000  1.003400e+04\n",
       "mean      48.656294      0.134846   1385.932186  6.088829e+04\n",
       "std       19.723128      0.701687   4881.064143  9.660833e+04\n",
       "min       11.000000      0.000000      0.000000  6.200000e+01\n",
       "25%       32.000000      0.000760     35.000000  1.345351e+04\n",
       "50%       51.000000      0.005444    208.000000  3.059202e+04\n",
       "75%       61.000000      0.037728    898.000000  6.559285e+04\n",
       "max       99.000000     14.797457  95984.000000  1.830408e+06"
      ]
     },
     "execution_count": 8,
     "metadata": {},
     "output_type": "execute_result"
    }
   ],
   "source": [
    "county_annual_N1.describe()"
   ]
  },
  {
   "cell_type": "code",
   "execution_count": 30,
   "metadata": {},
   "outputs": [
    {
     "data": {
      "text/plain": [
       "<matplotlib.axes._subplots.AxesSubplot at 0x11b359630>"
      ]
     },
     "execution_count": 30,
     "metadata": {},
     "output_type": "execute_result"
    },
    {
     "data": {
      "image/png": "[encoded data removed]",
      "text/plain": [
       "<Figure size 288x864 with 1 Axes>"
      ]
     },
     "metadata": {
      "needs_background": "light"
     },
     "output_type": "display_data"
    }
   ],
   "source": [
    "county_annual_N1[['sales']].groupby([county_annual_N1.county_name]).\\\n",
    "sum().plot(kind='barh', figsize=(4,12))"
   ]
  },
  {
   "cell_type": "code",
   "execution_count": null,
   "metadata": {},
   "outputs": [],
   "source": []
  }
 ],
 "metadata": {
  "kernelspec": {
   "display_name": "Python 2",
   "language": "python",
   "name": "python2"
  },
  "language_info": {
   "codemirror_mode": {
    "name": "ipython",
    "version": 2
   },
   "file_extension": ".py",
   "mimetype": "text/x-python",
   "name": "python",
   "nbconvert_exporter": "python",
   "pygments_lexer": "ipython2",
   "version": "2.7.15"
  }
 },
 "nbformat": 4,
 "nbformat_minor": 2
}
